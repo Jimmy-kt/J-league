{
 "cells": [
  {
   "cell_type": "code",
   "execution_count": 1,
   "metadata": {},
   "outputs": [],
   "source": [
    "import pandas as pd\n",
    "import numpy as np\n",
    "import matplotlib.pyplot as plt\n",
    "% matplotlib inline\n",
    "\n",
    "df=pd.read_csv('train_new.csv')\n",
    "test=pd.read_csv('test_new.csv')\n",
    "df= df.drop(1567, axis=0)"
   ]
  },
  {
   "cell_type": "code",
   "execution_count": 2,
   "metadata": {},
   "outputs": [],
   "source": [
    "#チームの組み合わせ\n",
    "df_home_dm=pd.get_dummies(df['home'])\n",
    "df_away_dm=pd.get_dummies(df['away'])\n",
    "df_oh1=df_home_dm+df_away_dm\n",
    "df=pd.concat([df,df_oh1], axis=1)\n",
    "df=df.drop('home', axis=1)\n",
    "df=df.drop('away', axis=1)\n",
    "\n",
    "test_home_dm=pd.get_dummies(test['home'])\n",
    "test_away_dm=pd.get_dummies(test['away'])\n",
    "test_oh1=test_home_dm+test_away_dm\n",
    "test=pd.concat([test,test_oh1], axis=1)\n",
    "test=test.drop('home', axis=1)\n",
    "test=test.drop('away', axis=1)"
   ]
  },
  {
   "cell_type": "code",
   "execution_count": 3,
   "metadata": {},
   "outputs": [],
   "source": [
    "# stage\n",
    "def stage(x):\n",
    "    if x==\"Ｊ１\":\n",
    "        x=1\n",
    "    else:\n",
    "        x=0\n",
    "    return x\n",
    "df[\"stage\"]=df[\"stage\"].apply(stage)\n",
    "test[\"stage\"]=test[\"stage\"].apply(stage)"
   ]
  },
  {
   "cell_type": "code",
   "execution_count": 4,
   "metadata": {},
   "outputs": [],
   "source": [
    "# match 節\n",
    "def match (x):\n",
    "    x=x[1:]\n",
    "    x=x[:-4]\n",
    "    return x\n",
    "df[\"match\"]=df[\"match\"].apply(match)\n",
    "test[\"match\"]=test[\"match\"].apply(match)"
   ]
  },
  {
   "cell_type": "code",
   "execution_count": 5,
   "metadata": {},
   "outputs": [],
   "source": [
    "#開幕戦\n",
    "def match2(x):\n",
    "    if x=='１':\n",
    "        x=1\n",
    "    else: \n",
    "        x=0\n",
    "    return x\n",
    "df[\"firstgame\"]=df[\"match\"].apply(match2)\n",
    "test[\"firstgame\"]=test[\"match\"].apply(match2)"
   ]
  },
  {
   "cell_type": "code",
   "execution_count": 6,
   "metadata": {},
   "outputs": [],
   "source": [
    "#J2最終戦　\n",
    "def match3(x):\n",
    "    if x=='４２':\n",
    "        x=1\n",
    "    else: \n",
    "        x=0\n",
    "    return x\n",
    "df[\"lastgame2\"]=df[\"match\"].apply(match3)\n",
    "test[\"lastgame2\"]=test[\"match\"].apply(match3)"
   ]
  },
  {
   "cell_type": "code",
   "execution_count": 7,
   "metadata": {},
   "outputs": [],
   "source": [
    "#J1のみ最終戦\n",
    "df_j1=df[df.stage==1]\n",
    "def match4(x):\n",
    "    if x=='３４':\n",
    "        x=1\n",
    "    else: \n",
    "        x=0\n",
    "    return x\n",
    "df[\"lastgame1\"]=df_j1[\"stage\"].apply(match4)\n",
    "df[\"lastgame1\"]=df[\"lastgame1\"].fillna(0.0)\n",
    "\n",
    "test_j1=test[test.stage==1]\n",
    "def match4(x):\n",
    "    if x=='３４':\n",
    "        x=1\n",
    "    else: \n",
    "        x=0\n",
    "    return x\n",
    "test[\"lastgame1\"]=test_j1[\"stage\"].apply(match4)\n",
    "test[\"lastgame1\"]=test[\"lastgame1\"].fillna(0.0)"
   ]
  },
  {
   "cell_type": "code",
   "execution_count": 8,
   "metadata": {},
   "outputs": [],
   "source": [
    "#J1とJ２の最終戦の結合　\n",
    "df[\"lastgame\"]=df[\"lastgame2\"]+df[\"lastgame1\"]\n",
    "test[\"lastgame\"]=test[\"lastgame2\"]+test[\"lastgame1\"]"
   ]
  },
  {
   "cell_type": "code",
   "execution_count": 9,
   "metadata": {},
   "outputs": [],
   "source": [
    "#month\n",
    "def month (x):\n",
    "    x=x[:2]\n",
    "    return x\n",
    "df[\"game_month\"]=df[\"gameday\"].apply(month)  \n",
    "test[\"game_month\"]=test[\"gameday\"].apply(month)"
   ]
  },
  {
   "cell_type": "code",
   "execution_count": 10,
   "metadata": {},
   "outputs": [],
   "source": [
    "#12月\n",
    "def decenber (x):\n",
    "    if x=='12':\n",
    "        x=1\n",
    "    else: \n",
    "        x=0\n",
    "    return x\n",
    "df['decenber']=df[\"game_month\"].apply(decenber)\n",
    "test['decenber']=test[\"game_month\"].apply(decenber)"
   ]
  },
  {
   "cell_type": "code",
   "execution_count": 11,
   "metadata": {},
   "outputs": [],
   "source": [
    "#　weather\n",
    "dfweather= df['weather'].str.strip('一時曇晴れのち々')\n",
    "def weather1(x):\n",
    "    if x=='雨':\n",
    "        x=1\n",
    "    else: \n",
    "        x=0\n",
    "    return x\n",
    "df[\"rain\"]=df[\"weather\"].apply(weather1)\n",
    "def weather2(x):\n",
    "    if x=='屋内':\n",
    "        x=1\n",
    "    else: \n",
    "        x=0\n",
    "    return x\n",
    "df[\"dome\"]=df[\"weather\"].apply(weather2)\n",
    "\n",
    "testweather= test['weather'].str.strip('一時曇晴れのち々')\n",
    "def weather1(x):\n",
    "    if x=='雨':\n",
    "        x=1\n",
    "    else: \n",
    "        x=0\n",
    "    return x\n",
    "test[\"rain\"]=test[\"weather\"].apply(weather1)\n",
    "def weather2(x):\n",
    "    if x=='屋内':\n",
    "        x=1\n",
    "    else: \n",
    "        x=0\n",
    "    return x\n",
    "test[\"dome\"]=test[\"weather\"].apply(weather2)"
   ]
  },
  {
   "cell_type": "code",
   "execution_count": 12,
   "metadata": {},
   "outputs": [],
   "source": [
    "#  日本代表\n",
    "def national(x):\n",
    "    if x==\"酒井　高徳\":\n",
    "        y=1\n",
    "    if x==\"森重　真人\":\n",
    "        y=1\n",
    "    if x==\"遠藤　保仁\":\n",
    "        y=1  \n",
    "    if x==\"清武　弘嗣\":\n",
    "        y=1\n",
    "    if x==\"遠藤　保仁\":\n",
    "        y=1  \n",
    "    if x==\"柿谷　曜一朗\":\n",
    "        y=1\n",
    "    if x==\"西川　周作\":\n",
    "        y=1  \n",
    "    if x==\"大久保　嘉人\":\n",
    "        y=1\n",
    "    if x==\"青山　敏弘\":\n",
    "        y=1 \n",
    "    if x==\"今野　泰幸\":\n",
    "        y=1  \n",
    "    if x==\"山口　蛍\":\n",
    "        y=1\n",
    "    if x==\"大迫　勇也\":\n",
    "        y=1  \n",
    "    if x==\"伊野波　雅彦\":\n",
    "        y=1\n",
    "    if x==\"齋藤　学\":\n",
    "        y=1  \n",
    "    if x==\"酒井　宏樹\":\n",
    "        y=1\n",
    "    if x==\"権田　修一\":\n",
    "        y=1 \n",
    "    else:\n",
    "        y=0\n",
    "    return y\n",
    "df[\"national\"]=df['home_01'].apply(national)+df['home_02'].apply(national)+df['home_03'].apply(national)+df['home_04'].apply(national)+df['home_05'].apply(national)+df['home_06'].apply(national)+df['home_07'].apply(national)+df['home_08'].apply(national)+df['home_09'].apply(national)+df['home_10'].apply(national)+df['home_11'].apply(national)+df['away_01'].apply(national)+df['away_02'].apply(national)+df['away_03'].apply(national)+df['away_04'].apply(national)+df['away_05'].apply(national)+df['away_06'].apply(national)+df['away_07'].apply(national)+df['away_08'].apply(national)+df['away_09'].apply(national)+df['away_10'].apply(national)+df['away_11'].apply(national)\n",
    "test[\"national\"]=test['home_01'].apply(national)+test['home_02'].apply(national)+test['home_03'].apply(national)+test['home_04'].apply(national)+test['home_05'].apply(national)+test['home_06'].apply(national)+test['home_07'].apply(national)+test['home_08'].apply(national)+test['home_09'].apply(national)+test['home_10'].apply(national)+test['home_11'].apply(national)+test['away_01'].apply(national)+test['away_02'].apply(national)+test['away_03'].apply(national)+test['away_04'].apply(national)+test['away_05'].apply(national)+test['away_06'].apply(national)+test['away_07'].apply(national)+test['away_08'].apply(national)+test['away_09'].apply(national)+test['away_10'].apply(national)+test['away_11'].apply(national)"
   ]
  },
  {
   "cell_type": "code",
   "execution_count": 13,
   "metadata": {},
   "outputs": [],
   "source": [
    "#  日本代表cap\n",
    "def cap(x):\n",
    "    if x==\"川口　能活\":\n",
    "        y=1\n",
    "    if x==\"中澤　佑二\":\n",
    "        y=1\n",
    "    if x==\"中村　俊輔\":\n",
    "        y=1  \n",
    "    if x==\"三浦　知良\":\n",
    "        y=1\n",
    "    if x==\"三都主　アレサンドロ\":\n",
    "        y=1  \n",
    "    if x==\"稲本　潤一\":\n",
    "        y=1\n",
    "    if x==\"駒野　友一\":\n",
    "        y=1  \n",
    "    if x==\"楢崎　正剛\":\n",
    "        y=1\n",
    "    if x==\"玉田　圭司\":\n",
    "        y=1 \n",
    "    if x==\"中村　憲剛\":\n",
    "        y=1  \n",
    "    if x==\"加地　亮\":\n",
    "        y=1\n",
    "    if x==\"高原　直泰\":\n",
    "        y=1  \n",
    "    if x==\"中田　浩二\":\n",
    "        y=1\n",
    "    if x==\"小野　伸二\":\n",
    "        y=1  \n",
    "    if x==\"阿部　勇樹\":\n",
    "        y=1 \n",
    "    else:\n",
    "        y=0\n",
    "    return y\n",
    "df[\"cap\"]=df['home_01'].apply(cap)+df['home_02'].apply(cap)+df['home_03'].apply(cap)+df['home_04'].apply(cap)+df['home_05'].apply(cap)+df['home_06'].apply(cap)+df['home_07'].apply(cap)+df['home_08'].apply(cap)+df['home_09'].apply(cap)+df['home_10'].apply(cap)+df['home_11'].apply(cap)+df['away_01'].apply(cap)+df['away_02'].apply(cap)+df['away_03'].apply(cap)+df['away_04'].apply(cap)+df['away_05'].apply(cap)+df['away_06'].apply(cap)+df['away_07'].apply(cap)+df['away_08'].apply(cap)+df['away_09'].apply(cap)+df['away_10'].apply(cap)+df['away_11'].apply(cap)\n",
    "test[\"cap\"]=test['home_01'].apply(cap)+test['home_02'].apply(cap)+test['home_03'].apply(cap)+test['home_04'].apply(cap)+test['home_05'].apply(cap)+test['home_06'].apply(cap)+test['home_07'].apply(cap)+test['home_08'].apply(cap)+test['home_09'].apply(cap)+test['home_10'].apply(cap)+test['home_11'].apply(cap)+test['away_01'].apply(cap)+test['away_02'].apply(cap)+test['away_03'].apply(cap)+test['away_04'].apply(cap)+test['away_05'].apply(cap)+test['away_06'].apply(cap)+test['away_07'].apply(cap)+test['away_08'].apply(cap)+test['away_09'].apply(cap)+test['away_10'].apply(cap)+test['away_11'].apply(cap)"
   ]
  },
  {
   "cell_type": "code",
   "execution_count": 14,
   "metadata": {},
   "outputs": [],
   "source": [
    "#ホールドアウト法\n",
    "X = df.loc[:, ['stage','capa','firstgame','lastgame','rain','dome','decenber',\"national\",\"cap\",\n",
    "       'アビスパ福岡','アルビレックス新潟','カターレ富山','カマタマーレ讃岐','ガイナーレ鳥取','ガンバ大阪','ギラヴァンツ北九州','コンサドーレ札幌','サガン鳥栖','サンフレッチェ広島','ザスパクサツ群馬','ザスパ草津','ジェフユナイテッド千葉','ジュビロ磐田','セレッソ大阪','ファジアーノ岡山','ベガルタ仙台','モンテディオ山形','ロアッソ熊本','ヴァンフォーレ甲府','ヴィッセル神戸','京都サンガF.C.','名古屋グランパス','大分トリニータ','大宮アルディージャ','川崎フロンターレ','徳島ヴォルティス','愛媛ＦＣ','東京ヴェルディ','松本山雅ＦＣ','柏レイソル','栃木ＳＣ','横浜Ｆ・マリノス','横浜ＦＣ','水戸ホーリーホック','浦和レッズ','清水エスパルス','湘南ベルマーレ','鹿島アントラーズ','ＦＣ岐阜','ＦＣ東京','ＦＣ町田ゼルビア','Ｖ・ファーレン長崎'\n",
    "              ]].values\n",
    "y = df.loc[:, ['y']].values"
   ]
  },
  {
   "cell_type": "code",
   "execution_count": 15,
   "metadata": {},
   "outputs": [
    {
     "data": {
      "text/plain": [
       "LinearRegression(copy_X=True, fit_intercept=True, n_jobs=1, normalize=False)"
      ]
     },
     "execution_count": 15,
     "metadata": {},
     "output_type": "execute_result"
    }
   ],
   "source": [
    "# ホールド・アウト法によるデータの分割\n",
    "from sklearn.model_selection import train_test_split\n",
    "X_train, X_test, y_train, y_test = train_test_split(X, y, test_size = 0.3, random_state = 0)\n",
    "# 線形回帰のモデルを学習させる\n",
    "from sklearn.linear_model import LinearRegression\n",
    "lr = LinearRegression()\n",
    "lr.fit(X_train, y_train)"
   ]
  },
  {
   "cell_type": "code",
   "execution_count": 16,
   "metadata": {},
   "outputs": [
    {
     "name": "stdout",
     "output_type": "stream",
     "text": [
      "adjusted R^2\n",
      "train: 0.781473\n",
      "test : 0.792296\n"
     ]
    }
   ],
   "source": [
    "# 自由度調整済み決定係数\n",
    "# (決定係数, trainまたはtestのサンプル数, 利用した特徴量の数)\n",
    "def adjusted(score, n_sample, n_features):\n",
    "    adjusted_score = 1 - (1 - score) * ((n_sample - 1) / (n_sample - n_features - 1))\n",
    "    return adjusted_score\n",
    "# 自由度調整済み決定係数を出力\n",
    "print('adjusted R^2')\n",
    "print('train: %3f' % adjusted(lr.score(X_train, y_train), len(y_train), 2))\n",
    "print('test : %3f' % adjusted(lr.score(X_test, y_test), len(y_test), 2))"
   ]
  },
  {
   "cell_type": "code",
   "execution_count": 17,
   "metadata": {},
   "outputs": [
    {
     "name": "stdout",
     "output_type": "stream",
     "text": [
      "RMSE\n",
      "train: 3791.725\n",
      "test : 3662.087\n"
     ]
    }
   ],
   "source": [
    "# MSEを出力する関数を読み込む\n",
    "from sklearn.metrics import mean_squared_error as mse\n",
    "# RMSEをtrainとtestに分けて出力\n",
    "print('RMSE')\n",
    "print('train: %.3f' % (mse(y_train, lr.predict(X_train)) ** (1/2)))\n",
    "print('test : %.3f' % (mse(y_test, lr.predict(X_test)) ** (1/2)))"
   ]
  },
  {
   "cell_type": "code",
   "execution_count": 18,
   "metadata": {},
   "outputs": [
    {
     "name": "stderr",
     "output_type": "stream",
     "text": [
      "/Users/koudai/.pyenv/versions/anaconda3-5.2.0/lib/python3.6/site-packages/pandas/core/indexing.py:1472: FutureWarning: \n",
      "Passing list-likes to .loc or [] with any missing label will raise\n",
      "KeyError in the future, you can use .reindex() as an alternative.\n",
      "\n",
      "See the documentation here:\n",
      "https://pandas.pydata.org/pandas-docs/stable/indexing.html#deprecate-loc-reindex-listlike\n",
      "  return self._getitem_tuple(key)\n"
     ]
    }
   ],
   "source": [
    "Xt= test.loc[:, ['stage','capa','firstgame','lastgame','rain','dome','decenber',\"national\",\"cap\",\n",
    "       'アビスパ福岡','アルビレックス新潟','カターレ富山','カマタマーレ讃岐','ガイナーレ鳥取','ガンバ大阪','ギラヴァンツ北九州','コンサドーレ札幌','サガン鳥栖','サンフレッチェ広島','ザスパクサツ群馬','ザスパ草津','ジェフユナイテッド千葉','ジュビロ磐田','セレッソ大阪','ファジアーノ岡山','ベガルタ仙台','モンテディオ山形','ロアッソ熊本','ヴァンフォーレ甲府','ヴィッセル神戸','京都サンガF.C.','名古屋グランパス','大分トリニータ','大宮アルディージャ','川崎フロンターレ','徳島ヴォルティス','愛媛ＦＣ','東京ヴェルディ','松本山雅ＦＣ','柏レイソル','栃木ＳＣ','横浜Ｆ・マリノス','横浜ＦＣ','水戸ホーリーホック','浦和レッズ','清水エスパルス','湘南ベルマーレ','鹿島アントラーズ','ＦＣ岐阜','ＦＣ東京','ＦＣ町田ゼルビア','Ｖ・ファーレン長崎'\n",
    "              ]]\n",
    "Xt=Xt.fillna(0.0)\n",
    "Xt=Xt.values\n",
    "test_predict=lr.predict(Xt)"
   ]
  },
  {
   "cell_type": "code",
   "execution_count": 19,
   "metadata": {},
   "outputs": [],
   "source": [
    "test_predict=test_predict.reshape(-1)\n",
    "test[\"y\"]=pd.DataFrame(test_predict)\n",
    "test_id=pd.DataFrame(test[\"id\"])\n",
    "predict=pd.concat([test_id,test[\"y\"]], axis=1)"
   ]
  },
  {
   "cell_type": "code",
   "execution_count": 20,
   "metadata": {},
   "outputs": [],
   "source": [
    "predict.to_csv('predict4.csv')"
   ]
  }
 ],
 "metadata": {
  "kernelspec": {
   "display_name": "Python 3",
   "language": "python",
   "name": "python3"
  },
  "language_info": {
   "codemirror_mode": {
    "name": "ipython",
    "version": 3
   },
   "file_extension": ".py",
   "mimetype": "text/x-python",
   "name": "python",
   "nbconvert_exporter": "python",
   "pygments_lexer": "ipython3",
   "version": "3.6.5"
  }
 },
 "nbformat": 4,
 "nbformat_minor": 2
}
